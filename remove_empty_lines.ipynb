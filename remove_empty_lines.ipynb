{
 "cells": [
  {
   "cell_type": "code",
   "execution_count": 1,
   "metadata": {},
   "outputs": [
    {
     "name": "stdout",
     "output_type": "stream",
     "text": [
      "Empty lines removed and saved to your_output_file.txt\n"
     ]
    }
   ],
   "source": [
    "# Specify the path to your input text file\n",
    "input_file_path = 'Indu_mish.txt'\n",
    "\n",
    "# Open and read the input file\n",
    "with open(input_file_path, 'r') as file:\n",
    "    lines = file.readlines()\n",
    "\n",
    "# Remove empty lines from the content\n",
    "lines = [line.strip() for line in lines if line.strip()]\n",
    "\n",
    "# Specify the path to save the modified content\n",
    "output_file_path = 'your_output_file.txt'\n",
    "\n",
    "# Save the modified content back to the file\n",
    "with open(output_file_path, 'w') as file:\n",
    "    file.write('\\n'.join(lines))\n",
    "\n",
    "print(f'Empty lines removed and saved to {output_file_path}')\n"
   ]
  }
 ],
 "metadata": {
  "kernelspec": {
   "display_name": "venv",
   "language": "python",
   "name": "python3"
  },
  "language_info": {
   "codemirror_mode": {
    "name": "ipython",
    "version": 3
   },
   "file_extension": ".py",
   "mimetype": "text/x-python",
   "name": "python",
   "nbconvert_exporter": "python",
   "pygments_lexer": "ipython3",
   "version": "3.9.6"
  },
  "orig_nbformat": 4
 },
 "nbformat": 4,
 "nbformat_minor": 2
}
