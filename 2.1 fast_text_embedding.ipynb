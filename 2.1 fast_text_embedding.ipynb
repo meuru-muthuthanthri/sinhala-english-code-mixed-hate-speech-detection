{
 "cells": [
  {
   "cell_type": "code",
   "execution_count": 1,
   "metadata": {},
   "outputs": [
    {
     "name": "stdout",
     "output_type": "stream",
     "text": [
      "                                                   text  is_hate\n",
      "0     ponnayo danne kellek aduwa gaman laga inna kol...     True\n",
      "1                  ape harak samjeta eka honda adrshyak    False\n",
      "2          tpita pisuda yako man htuwe atta kiyala aiyo    False\n",
      "3     kimbak eduwoth ape untath amma thaththawath pe...     True\n",
      "4     lisan nathawa yanna puluwan yako api dannawa o...    False\n",
      "...                                                 ...      ...\n",
      "2200                                      sajith nariya     True\n",
      "2201   mechchra deyak wela goiyoi bayyoi thama innwaneh     True\n",
      "2202  rajapassa kalakannie reala chandayak pavathval...     True\n",
      "2203  kaputa hitiyatah wada hodata wajabanawa ahinsa...     True\n",
      "2204                  rata kapu kaputo un thama palanye     True\n",
      "\n",
      "[2205 rows x 2 columns]\n"
     ]
    }
   ],
   "source": [
    "import pandas as pd\n",
    "\n",
    "# Read the CSV file into a DataFrame\n",
    "column_names = [\"text\", \"is_hate\"]\n",
    "\n",
    "df = pd.read_csv('1.preprocessed_data.csv', on_bad_lines='skip', sep=\",\", encoding='iso-8859-1', header=0, names=column_names)\n",
    "df['is_hate'] = df['is_hate'].astype(bool)\n",
    "df['text'] = df['text'].astype('str')\n",
    "df.head()\n",
    "\n",
    "# Display the DataFrame\n",
    "print(df)"
   ]
  },
  {
   "cell_type": "code",
   "execution_count": 2,
   "metadata": {},
   "outputs": [
    {
     "name": "stdout",
     "output_type": "stream",
     "text": [
      "X_train shape: (1764,), y_train shape: (1764,)\n",
      "X_test shape: (441,), y_test shape: (441,)\n"
     ]
    }
   ],
   "source": [
    "##### Data Splitting\n",
    "from sklearn.model_selection import train_test_split\n",
    "\n",
    "X = df['text']\n",
    "y = df['is_hate']  # Labels\n",
    "\n",
    "# Split the data into training and testing sets (80% train, 20% test)\n",
    "X_train, X_test, y_train, y_test = train_test_split(X, y, test_size=0.2, random_state=42)\n",
    "\n",
    "# Check the shapes of the split datasets\n",
    "print(f\"X_train shape: {X_train.shape}, y_train shape: {y_train.shape}\")\n",
    "print(f\"X_test shape: {X_test.shape}, y_test shape: {y_test.shape}\")"
   ]
  },
  {
   "cell_type": "code",
   "execution_count": 3,
   "metadata": {},
   "outputs": [],
   "source": [
    "# Write the train data to file\n",
    "with open(\"train_data.txt\", \"w\", encoding=\"utf-8\") as f:\n",
    "    for i in range(len(X_train)):\n",
    "        f.write(\"__label__\" + str(y_train.iloc[i]) + \" \" + X_train.iloc[i] + \"\\n\")\n",
    " \n",
    "# Write the test data to file\n",
    "with open(\"test_data.txt\", \"w\", encoding=\"utf-8\") as f:\n",
    "    for i in range(len(X_test)):\n",
    "        f.write(\"__label__\" + str(y_test.iloc[i]) + \" \" + X_test.iloc[i] + \"\\n\")\n"
   ]
  },
  {
   "cell_type": "code",
   "execution_count": 4,
   "metadata": {},
   "outputs": [
    {
     "name": "stderr",
     "output_type": "stream",
     "text": [
      "Read 0M words\n",
      "Number of words:  6884\n",
      "Number of labels: 2\n",
      "Progress: 100.0% words/sec/thread: 1381374 lr:  0.000000 avg.loss:  0.006667 ETA:   0h 0m 0s\n"
     ]
    }
   ],
   "source": [
    "import fasttext\n",
    "# Train the model\n",
    "# https://towardsdatascience.com/fasttext-bag-of-tricks-for-efficient-text-classification-513ba9e302e7\n",
    "model = fasttext.train_supervised(input=\"train_data.txt\", epoch=130, wordNgrams=4, lr=1.0)\n",
    "# Save the model\n",
    "model.save_model('text_classification_model.bin')"
   ]
  },
  {
   "cell_type": "code",
   "execution_count": 5,
   "metadata": {},
   "outputs": [
    {
     "name": "stdout",
     "output_type": "stream",
     "text": [
      "Test Accuracy: 0.7777777777777778\n",
      "(441, 0.7777777777777778, 0.7777777777777778)\n"
     ]
    }
   ],
   "source": [
    "# Test the model\n",
    "result = model.test(\"test_data.txt\")\n",
    "print(\"Test Accuracy:\", result[1])\n",
    "print(result)"
   ]
  },
  {
   "cell_type": "code",
   "execution_count": 23,
   "metadata": {},
   "outputs": [
    {
     "name": "stdout",
     "output_type": "stream",
     "text": [
      "Label: __label__True\n",
      "Probability: 1.0000100135803223\n",
      "__label__True\n"
     ]
    }
   ],
   "source": [
    "# Make predictions on new data\n",
    "text = \"jeewite lassanai kalakanni\"\n",
    "labels, prob = model.predict(text)\n",
    "print(\"Label:\", labels[0])\n",
    "print(\"Probability:\", prob[0])\n",
    "print(model.predict(text)[0][0])"
   ]
  },
  {
   "cell_type": "code",
   "execution_count": 36,
   "metadata": {},
   "outputs": [],
   "source": [
    "import numpy as np\n",
    "import pickle\n",
    "\n",
    "from sklearn.metrics import classification_report, confusion_matrix, roc_curve, auc\n",
    "y_pred = [model.predict(x)[0][0] == '__label__True' for x in X_test]\n",
    "\n",
    "# Compute the classification report\n",
    "report = classification_report(y_test, y_pred)\n",
    "\n",
    "# values for confusion matrix\n",
    "cm = confusion_matrix(y_test, y_pred)\n",
    "cm_percentage = cm.astype('float') / cm.sum(axis=1)[:, np.newaxis]  # normalize the confusion matrix\n",
    "\n",
    "# save the values to a file\n",
    "with open('2.1 Fasttext.pkl', 'wb') as f:\n",
    "    pickle.dump({\n",
    "        'fpr': None, 'tpr': None, 'roc_auc': None, 'cm_percentage': cm_percentage, 'report': report\n",
    "    }, f)\n",
    "\n"
   ]
  }
 ],
 "metadata": {
  "kernelspec": {
   "display_name": "venv",
   "language": "python",
   "name": "python3"
  },
  "language_info": {
   "codemirror_mode": {
    "name": "ipython",
    "version": 3
   },
   "file_extension": ".py",
   "mimetype": "text/x-python",
   "name": "python",
   "nbconvert_exporter": "python",
   "pygments_lexer": "ipython3",
   "version": "3.9.6"
  },
  "orig_nbformat": 4
 },
 "nbformat": 4,
 "nbformat_minor": 2
}
